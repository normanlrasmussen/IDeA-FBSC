{
 "cells": [
  {
   "cell_type": "code",
   "execution_count": 1,
   "id": "3d3cf398",
   "metadata": {},
   "outputs": [],
   "source": [
    "import pandas as pd\n",
    "import requests\n",
    "import os\n",
    "from dotenv import load_dotenv\n",
    "\n",
    "# Load environment variables from .env file\n",
    "load_dotenv()\n",
    "\n",
    "# Get API key from environment\n",
    "API_KEY = os.getenv('CFBD_API_KEY')"
   ]
  },
  {
   "cell_type": "code",
   "execution_count": null,
   "id": "5000cbdd",
   "metadata": {},
   "outputs": [],
   "source": [
    "def get_all_recruiting_players(start_year: int = 2000, end_year: int = 2025):\n",
    "    \"\"\"\n",
    "    Downloads every recruiting record from CFBD API directly.\n",
    "    Combines into a single pandas DataFrame.\n",
    "    \"\"\"\n",
    "    all_years = list(range(start_year, end_year + 1))\n",
    "    all_dfs = []\n",
    "    \n",
    "    base_url = \"https://api.collegefootballdata.com/recruiting/players\"\n",
    "    headers = {\"Authorization\": f\"Bearer {API_KEY}\"}\n",
    "\n",
    "    for yr in all_years:\n",
    "        try:\n",
    "            params = {\"year\": yr}\n",
    "            response = requests.get(base_url, headers=headers, params=params)\n",
    "            response.raise_for_status()\n",
    "            \n",
    "            data = response.json()\n",
    "            if data:\n",
    "                df = pd.DataFrame(data)\n",
    "                df[\"class_year\"] = yr\n",
    "                all_dfs.append(df)\n",
    "            else:\n",
    "                print(f\"No data for {yr}\")\n",
    "        except Exception as e:\n",
    "            print(f\"Error fetching {yr}: {e}\")\n",
    "\n",
    "    if not all_dfs:\n",
    "        raise ValueError(\"No data retrieved! Check API access or network.\")\n",
    "    \n",
    "    full_df = pd.concat(all_dfs, ignore_index=True)\n",
    "    return full_df"
   ]
  },
  {
   "cell_type": "code",
   "execution_count": null,
   "id": "58c2f116",
   "metadata": {},
   "outputs": [
    {
     "name": "stdout",
     "output_type": "stream",
     "text": [
      "       id athleteId recruitType  year  ranking            name  \\\n",
      "0  173252      None  HighSchool  2000        1   D.J. Williams   \n",
      "1  173253      None  HighSchool  2000        2    Brock Berlin   \n",
      "2  173254      None  HighSchool  2000        3  Charles Rogers   \n",
      "3  173255      None  HighSchool  2000        4  Travis Johnson   \n",
      "4  173256      None  HighSchool  2000        5  Marcus Houston   \n",
      "\n",
      "                      school     committedTo position  height  weight  stars  \\\n",
      "0                De La Salle           Miami      ILB    74.0   235.0      5   \n",
      "1  Evangel Christian Academy         Florida      PRO    74.0   190.0      5   \n",
      "2                    Saginaw  Michigan State       WR    76.0   195.0      5   \n",
      "3                 Notre Dame   Florida State      SDE    76.0   265.0      5   \n",
      "4           Thomas Jefferson        Colorado       RB    72.0   208.0      5   \n",
      "\n",
      "   rating          city stateProvince country  \\\n",
      "0  0.9998       Concord            CA     USA   \n",
      "1  0.9998    Shreveport            LA     USA   \n",
      "2  0.9988       Saginaw            MI     USA   \n",
      "3  0.9982  Sherman Oaks            CA     USA   \n",
      "4  0.9980        Denver            CO     USA   \n",
      "\n",
      "                                        hometownInfo  class_year  \n",
      "0  {'latitude': 37.9768525, 'longitude': -122.033...        2000  \n",
      "1  {'latitude': 32.5221828, 'longitude': -93.7651...        2000  \n",
      "2  {'latitude': 43.4200387, 'longitude': -83.9490...        2000  \n",
      "3  {'latitude': 34.1508718, 'longitude': -118.448...        2000  \n",
      "4  {'latitude': 39.7392364, 'longitude': -104.984...        2000  \n"
     ]
    }
   ],
   "source": [
    "df = get_all_recruiting_players(2000, 2025)\n",
    "print(df.head())"
   ]
  },
  {
   "cell_type": "code",
   "execution_count": null,
   "id": "5260dea1",
   "metadata": {},
   "outputs": [],
   "source": [
    "df = df.drop(columns=[\"id\", \"athleteId\", \"recruitType\"], errors=\"ignore\")\n",
    "\n",
    "# Parse latitude/longitude from \"hometownInfo\" (if present) to new columns and then drop \"hometownInfo\"\n",
    "def extract_lat_lon(hometown_info):\n",
    "    if isinstance(hometown_info, dict):\n",
    "        lat = hometown_info.get('latitude')\n",
    "        lon = hometown_info.get('longitude')\n",
    "        return lat, lon\n",
    "    return None, None\n",
    "\n",
    "if 'hometownInfo' in df.columns:\n",
    "    df['latitude'], df['longitude'] = zip(*df['hometownInfo'].map(extract_lat_lon))\n",
    "    df = df.drop(columns=[\"hometownInfo\"])\n",
    "\n",
    "\n",
    "df.to_csv('data/recruiting_data.csv', index=False)\n"
   ]
  }
 ],
 "metadata": {
  "kernelspec": {
   "display_name": "sneck",
   "language": "python",
   "name": "python3"
  },
  "language_info": {
   "codemirror_mode": {
    "name": "ipython",
    "version": 3
   },
   "file_extension": ".py",
   "mimetype": "text/x-python",
   "name": "python",
   "nbconvert_exporter": "python",
   "pygments_lexer": "ipython3",
   "version": "3.13.3"
  }
 },
 "nbformat": 4,
 "nbformat_minor": 5
}
